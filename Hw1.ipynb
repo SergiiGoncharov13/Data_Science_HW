{
  "nbformat": 4,
  "nbformat_minor": 0,
  "metadata": {
    "colab": {
      "provenance": []
    },
    "kernelspec": {
      "name": "python3",
      "display_name": "Python 3"
    },
    "language_info": {
      "name": "python"
    }
  },
  "cells": [
    {
      "cell_type": "code",
      "execution_count": 2,
      "metadata": {
        "id": "vXIBdPW_mk0u"
      },
      "outputs": [],
      "source": [
        "import numpy as np"
      ]
    },
    {
      "cell_type": "code",
      "source": [
        "# task 1\n",
        "arr = np.arange(10)\n",
        "arr"
      ],
      "metadata": {
        "colab": {
          "base_uri": "https://localhost:8080/"
        },
        "id": "8A61iw0zLFNf",
        "outputId": "064ac1b5-88b1-4ea7-936c-038f9b35bf3d"
      },
      "execution_count": 47,
      "outputs": [
        {
          "output_type": "execute_result",
          "data": {
            "text/plain": [
              "array([0, 1, 2, 3, 4, 5, 6, 7, 8, 9])"
            ]
          },
          "metadata": {},
          "execution_count": 47
        }
      ]
    },
    {
      "cell_type": "code",
      "source": [
        "# task 2\n",
        "arr = np.zeros((3, 3), dtype=np.int_)\n",
        "arr"
      ],
      "metadata": {
        "colab": {
          "base_uri": "https://localhost:8080/"
        },
        "id": "83hyj7vacTZR",
        "outputId": "c9f76098-af48-4b39-a45b-93e1dca80187"
      },
      "execution_count": 66,
      "outputs": [
        {
          "output_type": "execute_result",
          "data": {
            "text/plain": [
              "array([[0, 0, 0],\n",
              "       [0, 0, 0],\n",
              "       [0, 0, 0]])"
            ]
          },
          "metadata": {},
          "execution_count": 66
        }
      ]
    },
    {
      "cell_type": "code",
      "source": [
        "# task 3\n",
        "rng = np.random.default_rng()  \n",
        "rng.integers(11, size=(5, 5))"
      ],
      "metadata": {
        "colab": {
          "base_uri": "https://localhost:8080/"
        },
        "id": "wALFUOUhdXKx",
        "outputId": "11fdd820-a057-496f-d354-76589dce5318"
      },
      "execution_count": 73,
      "outputs": [
        {
          "output_type": "execute_result",
          "data": {
            "text/plain": [
              "array([[ 1,  1,  8,  5,  6],\n",
              "       [ 6,  7,  0,  5,  1],\n",
              "       [ 4, 10,  6,  0,  5],\n",
              "       [ 1,  8, 10, 10,  6],\n",
              "       [ 9,  4,  1,  5,  4]])"
            ]
          },
          "metadata": {},
          "execution_count": 73
        }
      ]
    },
    {
      "cell_type": "code",
      "source": [
        "# task 4\n",
        "rng = np.random.default_rng()  \n",
        "rng.integers(2, size=(4, 4))\n"
      ],
      "metadata": {
        "colab": {
          "base_uri": "https://localhost:8080/"
        },
        "id": "VbptgmEXIAuz",
        "outputId": "818c3367-f41a-4b21-9152-0315d9883ab9"
      },
      "execution_count": 77,
      "outputs": [
        {
          "output_type": "execute_result",
          "data": {
            "text/plain": [
              "array([[1, 0, 1, 1],\n",
              "       [1, 0, 0, 0],\n",
              "       [1, 0, 0, 0],\n",
              "       [0, 0, 1, 1]])"
            ]
          },
          "metadata": {},
          "execution_count": 77
        }
      ]
    },
    {
      "cell_type": "code",
      "source": [
        "# task 5 \n",
        "rng = np.random.default_rng()  \n",
        "arr = rng.integers(11, size=(5))\n",
        "brr = rng.integers(11, size=(5))\n",
        "print(arr - brr)\n",
        "print(arr + brr)\n",
        "print(arr * brr)\n"
      ],
      "metadata": {
        "colab": {
          "base_uri": "https://localhost:8080/"
        },
        "id": "aIruK-raIpXz",
        "outputId": "41591723-f287-45cc-d49e-e936e3e1c6b2"
      },
      "execution_count": 7,
      "outputs": [
        {
          "output_type": "stream",
          "name": "stdout",
          "text": [
            "[-7  1  1  4  2]\n",
            "[ 9  1 19 12 14]\n",
            "[ 8  0 90 32 48]\n"
          ]
        }
      ]
    },
    {
      "cell_type": "code",
      "source": [
        "# task 6\n",
        "arr = np.array([1, 3, 5, 7, 7, 9, 9])\n",
        "brr = np.array([4, 5, 7, 2, 3, 6, 7])\n",
        "arr @ brr"
      ],
      "metadata": {
        "colab": {
          "base_uri": "https://localhost:8080/"
        },
        "id": "Ce2pYRcVK7v1",
        "outputId": "f25979df-a946-48e0-aa81-a1bed1927d8b"
      },
      "execution_count": 16,
      "outputs": [
        {
          "output_type": "execute_result",
          "data": {
            "text/plain": [
              "206"
            ]
          },
          "metadata": {},
          "execution_count": 16
        }
      ]
    },
    {
      "cell_type": "code",
      "source": [
        "# task 7\n",
        "rng = np.random.default_rng()  \n",
        "arr = rng.integers(11, size=(2, 2))\n",
        "brr = rng.integers(11, size=(2, 3))\n",
        "res = np.dot(arr, brr)\n",
        "res"
      ],
      "metadata": {
        "colab": {
          "base_uri": "https://localhost:8080/"
        },
        "id": "48ubFkXuLUCy",
        "outputId": "326265cc-2c93-495a-ca9d-a88642d5769b"
      },
      "execution_count": 31,
      "outputs": [
        {
          "output_type": "execute_result",
          "data": {
            "text/plain": [
              "array([[ 10,   7,   2],\n",
              "       [102,  42,  24]])"
            ]
          },
          "metadata": {},
          "execution_count": 31
        }
      ]
    },
    {
      "cell_type": "code",
      "source": [
        "# task 8\n",
        "rng = np.random.default_rng()  \n",
        "arr = rng.integers(11, size=(3, 3))\n",
        "res = np.linalg.inv(arr)\n",
        "res"
      ],
      "metadata": {
        "colab": {
          "base_uri": "https://localhost:8080/"
        },
        "id": "DOWvngeaMOBv",
        "outputId": "f3d3a854-b1d5-40bd-b984-74245a34758a"
      },
      "execution_count": 17,
      "outputs": [
        {
          "output_type": "execute_result",
          "data": {
            "text/plain": [
              "array([[ 0.57142857, -0.14285714,  0.        ],\n",
              "       [ 0.125     , -0.125     ,  0.125     ],\n",
              "       [-0.35714286,  0.21428571, -0.        ]])"
            ]
          },
          "metadata": {},
          "execution_count": 17
        }
      ]
    },
    {
      "cell_type": "code",
      "source": [
        "# task 9\n",
        "rng = np.random.default_rng()  \n",
        "arr = rng.integers(2, size=(4, 4))\n",
        "arr.T"
      ],
      "metadata": {
        "colab": {
          "base_uri": "https://localhost:8080/"
        },
        "id": "5PyX4WAtNDZ2",
        "outputId": "ac68c993-4a38-409e-ce56-89de35a58f63"
      },
      "execution_count": 18,
      "outputs": [
        {
          "output_type": "execute_result",
          "data": {
            "text/plain": [
              "array([[1, 1, 1, 1],\n",
              "       [1, 0, 0, 0],\n",
              "       [1, 0, 0, 0],\n",
              "       [0, 1, 0, 1]])"
            ]
          },
          "metadata": {},
          "execution_count": 18
        }
      ]
    },
    {
      "cell_type": "code",
      "source": [
        "# task 10\n",
        "rng = np.random.default_rng()  \n",
        "arr = rng.integers(11, size=(3, 4))\n",
        "a =  rng.integers(11, size=(4))\n",
        "arr * a"
      ],
      "metadata": {
        "colab": {
          "base_uri": "https://localhost:8080/"
        },
        "id": "sd338JA1NyqZ",
        "outputId": "b3684458-fa5b-400e-ddb2-b992b11c3f29"
      },
      "execution_count": 19,
      "outputs": [
        {
          "output_type": "execute_result",
          "data": {
            "text/plain": [
              "array([[ 0, 12, 32,  0],\n",
              "       [ 0, 12, 12,  0],\n",
              "       [ 0, 12, 40,  0]])"
            ]
          },
          "metadata": {},
          "execution_count": 19
        }
      ]
    },
    {
      "cell_type": "code",
      "source": [
        "# task 11\n",
        "rng = np.random.default_rng()  \n",
        "arr = rng.integers(2, size=(2, 3))\n",
        "a =  rng.integers(2, size=(3))\n",
        "arr * a"
      ],
      "metadata": {
        "colab": {
          "base_uri": "https://localhost:8080/"
        },
        "id": "Ga3W72rzPWZQ",
        "outputId": "95b0bea3-1639-4b91-b4e5-b78af953a86c"
      },
      "execution_count": 20,
      "outputs": [
        {
          "output_type": "execute_result",
          "data": {
            "text/plain": [
              "array([[0, 1, 1],\n",
              "       [0, 0, 0]])"
            ]
          },
          "metadata": {},
          "execution_count": 20
        }
      ]
    },
    {
      "cell_type": "code",
      "source": [
        "# task 12\n",
        "rng = np.random.default_rng()  \n",
        "arr = rng.integers(11, size=(2, 2))\n",
        "brr = rng.integers(11, size=(2, 2))\n",
        "res = arr * brr\n",
        "res"
      ],
      "metadata": {
        "colab": {
          "base_uri": "https://localhost:8080/"
        },
        "id": "GpORROi-PxCc",
        "outputId": "662e68ec-28d9-45b0-fe21-e481ff7e262c"
      },
      "execution_count": 28,
      "outputs": [
        {
          "output_type": "execute_result",
          "data": {
            "text/plain": [
              "array([[24, 20],\n",
              "       [ 7, 48]])"
            ]
          },
          "metadata": {},
          "execution_count": 28
        }
      ]
    },
    {
      "cell_type": "code",
      "source": [
        "# task 13\n",
        "rng = np.random.default_rng()  \n",
        "arr = rng.integers(11, size=(2, 2))\n",
        "brr = rng.integers(11, size=(2, 2))\n",
        "arr @ brr"
      ],
      "metadata": {
        "colab": {
          "base_uri": "https://localhost:8080/"
        },
        "id": "YomM1f2zT159",
        "outputId": "c235f810-7f27-4266-aec5-1afe5be14ba2"
      },
      "execution_count": 32,
      "outputs": [
        {
          "output_type": "execute_result",
          "data": {
            "text/plain": [
              "array([[58, 42],\n",
              "       [59, 34]])"
            ]
          },
          "metadata": {},
          "execution_count": 32
        }
      ]
    },
    {
      "cell_type": "code",
      "source": [
        "# task 14\n",
        "rng = np.random.default_rng()  \n",
        "arr = rng.integers(101, size=(5, 5))\n",
        "arr.sum()"
      ],
      "metadata": {
        "colab": {
          "base_uri": "https://localhost:8080/"
        },
        "id": "MhWPvlGuDXll",
        "outputId": "0249886b-6257-43e2-975a-def134746654"
      },
      "execution_count": 35,
      "outputs": [
        {
          "output_type": "execute_result",
          "data": {
            "text/plain": [
              "1351"
            ]
          },
          "metadata": {},
          "execution_count": 35
        }
      ]
    },
    {
      "cell_type": "code",
      "source": [
        "# task 15\n",
        "rng = np.random.default_rng()  \n",
        "arr = rng.integers(11, size=(4, 4))\n",
        "brr = rng.integers(11, size=(4, 4))\n",
        "arr - brr"
      ],
      "metadata": {
        "colab": {
          "base_uri": "https://localhost:8080/"
        },
        "id": "kjGjwltbEKgW",
        "outputId": "46b21d79-3079-4f7e-e85f-ab4e5de1926e"
      },
      "execution_count": 36,
      "outputs": [
        {
          "output_type": "execute_result",
          "data": {
            "text/plain": [
              "array([[-1,  1, -4,  1],\n",
              "       [ 3,  5,  2,  2],\n",
              "       [-5,  4, -9,  0],\n",
              "       [-3,  4,  6,  2]])"
            ]
          },
          "metadata": {},
          "execution_count": 36
        }
      ]
    },
    {
      "cell_type": "code",
      "source": [
        "# task 16\n",
        "rng = np.random.default_rng()  \n",
        "arr = rng.integers(2, size=(3, 3))\n",
        "print(arr)\n",
        "a = arr[0:, 0]\n",
        "b = arr[0:, 1]\n",
        "c = arr[0:, 2]\n",
        "print(a)\n",
        "print(b)\n",
        "print(c)\n",
        "new_a = a.reshape(-1, 1)\n",
        "new_b = b.reshape(-1, 1)\n",
        "new_c = c.reshape(-1, 1)\n",
        "print(new_a.sum())\n",
        "print(new_b.sum())\n",
        "print(new_c.sum())"
      ],
      "metadata": {
        "colab": {
          "base_uri": "https://localhost:8080/"
        },
        "id": "OMQPKNgOEi3u",
        "outputId": "dd1c367d-aa6c-4d68-92cd-3cc7bca4b22d"
      },
      "execution_count": 68,
      "outputs": [
        {
          "output_type": "stream",
          "name": "stdout",
          "text": [
            "[[0 1 1]\n",
            " [0 1 0]\n",
            " [0 1 0]]\n",
            "[0 0 0]\n",
            "[1 1 1]\n",
            "[1 0 0]\n",
            "0\n",
            "3\n",
            "1\n"
          ]
        }
      ]
    },
    {
      "cell_type": "code",
      "source": [
        "# task 17\n",
        "rng = np.random.default_rng()  \n",
        "arr = rng.integers(11, size=(3, 4))\n",
        "print(arr)\n",
        "brr = arr **2\n",
        "brr"
      ],
      "metadata": {
        "colab": {
          "base_uri": "https://localhost:8080/"
        },
        "id": "6EMFDRpGKIPF",
        "outputId": "8874ed42-0ddc-4efe-99df-55023f5c8cfa"
      },
      "execution_count": 72,
      "outputs": [
        {
          "output_type": "stream",
          "name": "stdout",
          "text": [
            "[[ 9  9  1  0]\n",
            " [ 5  5 10 10]\n",
            " [ 3  5  8  8]]\n"
          ]
        },
        {
          "output_type": "execute_result",
          "data": {
            "text/plain": [
              "array([[ 81,  81,   1,   0],\n",
              "       [ 25,  25, 100, 100],\n",
              "       [  9,  25,  64,  64]])"
            ]
          },
          "metadata": {},
          "execution_count": 72
        }
      ]
    },
    {
      "cell_type": "code",
      "source": [
        "# task 18\n",
        "rng = np.random.default_rng()  \n",
        "arr = rng.integers(51, size=(4))\n",
        "print(arr)\n",
        "brr = np.sqrt(arr).round(3)\n",
        "brr"
      ],
      "metadata": {
        "colab": {
          "base_uri": "https://localhost:8080/"
        },
        "id": "zqe5MFlGLbsm",
        "outputId": "2dd70a40-47dc-4be4-d8fd-c79a5353fccb"
      },
      "execution_count": 76,
      "outputs": [
        {
          "output_type": "stream",
          "name": "stdout",
          "text": [
            "[ 7 37  4 17]\n"
          ]
        },
        {
          "output_type": "execute_result",
          "data": {
            "text/plain": [
              "array([2.646, 6.083, 2.   , 4.123])"
            ]
          },
          "metadata": {},
          "execution_count": 76
        }
      ]
    }
  ]
}